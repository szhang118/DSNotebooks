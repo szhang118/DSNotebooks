{
 "cells": [
  {
   "cell_type": "code",
   "execution_count": 1,
   "metadata": {
    "collapsed": true
   },
   "outputs": [],
   "source": [
    "from twython import Twython"
   ]
  },
  {
   "cell_type": "code",
   "execution_count": 2,
   "metadata": {
    "collapsed": true
   },
   "outputs": [],
   "source": []
  },
  {
   "cell_type": "code",
   "execution_count": 3,
   "metadata": {
    "collapsed": true
   },
   "outputs": [],
   "source": [
    "twitter = Twython(API_KEY, API_SECRET, ACCESS_TOKEN, ACCESS_TOKEN_SECRET)"
   ]
  },
  {
   "cell_type": "code",
   "execution_count": 5,
   "metadata": {
    "collapsed": false
   },
   "outputs": [],
   "source": [
    "temp = twitter.get_user_timeline()"
   ]
  },
  {
   "cell_type": "code",
   "execution_count": 29,
   "metadata": {
    "collapsed": false
   },
   "outputs": [
    {
     "data": {
      "text/plain": [
       "'899'"
      ]
     },
     "execution_count": 29,
     "metadata": {},
     "output_type": "execute_result"
    }
   ],
   "source": [
    "twitter.get_lastfunction_header(\"x-rate-limit-remaining\")"
   ]
  },
  {
   "cell_type": "markdown",
   "metadata": {},
   "source": [
    "User a function to handle OAuth authentication with Twitter API."
   ]
  },
  {
   "cell_type": "code",
   "execution_count": 8,
   "metadata": {
    "collapsed": true
   },
   "outputs": [],
   "source": [
    "def twitter_oauth_login():\n",
    "    API_KEY = \"\"\n",
    "    API_SECRET = \"\"\n",
    "    ACCESS_TOKEN = \"\"\n",
    "    ACCESS_TOKEN_SECRET = \"\"\n",
    "    twitter = Twython(API_KEY, API_SECRET, ACCESS_TOKEN, ACCESS_TOKEN_SECRET)\n",
    "    return twitter"
   ]
  },
  {
   "cell_type": "code",
   "execution_count": 9,
   "metadata": {
    "collapsed": true
   },
   "outputs": [],
   "source": [
    "twitter = twitter_oauth_login()"
   ]
  },
  {
   "cell_type": "code",
   "execution_count": 12,
   "metadata": {
    "collapsed": true
   },
   "outputs": [],
   "source": [
    "zachLowe = twitter.get_friends_ids(screen_name =\"ZachLowe_NBA\")"
   ]
  },
  {
   "cell_type": "code",
   "execution_count": 21,
   "metadata": {
    "collapsed": false
   },
   "outputs": [],
   "source": [
    "zachIds = zachLowe[\"ids\"]\n",
    "zachIds = [str(i) for i in zachIds]\n",
    "zachIds = \",\".join(zachIds)"
   ]
  },
  {
   "cell_type": "markdown",
   "metadata": {},
   "source": [
    "Define a function to calculate Jaccard similarity of two Twitter users based upon analysis of other Twitter users they follow."
   ]
  },
  {
   "cell_type": "code",
   "execution_count": 27,
   "metadata": {
    "collapsed": false
   },
   "outputs": [],
   "source": [
    "def jaccard(user1, user2, twitter=twitter):\n",
    "    user1Friends = twitter.get_friends_ids(screen_name=user1)[\"ids\"]\n",
    "    user2Friends = twitter.get_friends_ids(screen_name=user2)[\"ids\"]\n",
    "    set1 = set(user1Friends)\n",
    "    set2 = set(user2Friends)\n",
    "    jSim = float(len(set1 & set2)) / float(len(set1.union(set2)))\n",
    "    print \"Jaccard similarity of %s and %s equals %0.4f.\" %(user1, user2, jSim)"
   ]
  },
  {
   "cell_type": "code",
   "execution_count": 35,
   "metadata": {
    "collapsed": false
   },
   "outputs": [
    {
     "name": "stdout",
     "output_type": "stream",
     "text": [
      "Jaccard similarity of IvankaTrump and DonaldJTrumpJr equals 0.1100.\n"
     ]
    }
   ],
   "source": [
    "jaccard(\"IvankaTrump\", \"DonaldJTrumpJr\")"
   ]
  },
  {
   "cell_type": "markdown",
   "metadata": {},
   "source": [
    "Create a function to manage pulling Twitter profiles."
   ]
  },
  {
   "cell_type": "code",
   "execution_count": 39,
   "metadata": {
    "collapsed": true
   },
   "outputs": [],
   "source": [
    "import time\n",
    "import math\n",
    "rate_limit_window = 900.0"
   ]
  },
  {
   "cell_type": "code",
   "execution_count": 38,
   "metadata": {
    "collapsed": true
   },
   "outputs": [],
   "source": [
    "def pull_user_profiles(ids):\n",
    "    users = []\n",
    "    start_time = time.time()\n",
    "    for i in range(0, len(ids), 10):\n",
    "        batch = ids[i:i + 10]\n",
    "        users += twitter.lookup_user(user_id = batch)\n",
    "        calls_left = float(twitter.get_lastfunction_header(\"x-rate-limit-remaining\"))\n",
    "        time_remaining = rate_limit_window - (time.time() - start_time)\n",
    "        sleep_duration = math.ceil(time_remaining/calls_left)\n",
    "        print \"Sleeping for: \" + str(sleep_duration) + \" seconds; \" + str(calls_left) + \" API calls remaining.\"\n",
    "        time.sleep(sleep_duration)\n",
    "    return users"
   ]
  },
  {
   "cell_type": "code",
   "execution_count": null,
   "metadata": {
    "collapsed": false
   },
   "outputs": [],
   "source": []
  },
  {
   "cell_type": "code",
   "execution_count": 40,
   "metadata": {
    "collapsed": true
   },
   "outputs": [],
   "source": [
    "import json"
   ]
  },
  {
   "cell_type": "code",
   "execution_count": 41,
   "metadata": {
    "collapsed": true
   },
   "outputs": [],
   "source": [
    "def save_json(filename, data):\n",
    "    with open(filename, \"wb\") as outfile:\n",
    "        json.dump(data, outfile)"
   ]
  },
  {
   "cell_type": "code",
   "execution_count": 42,
   "metadata": {
    "collapsed": true
   },
   "outputs": [],
   "source": [
    "def load_json(filename):\n",
    "    with open(filename) as infile:\n",
    "        data = json.load(infile)\n",
    "    return data"
   ]
  },
  {
   "cell_type": "code",
   "execution_count": null,
   "metadata": {
    "collapsed": true
   },
   "outputs": [],
   "source": []
  }
 ],
 "metadata": {
  "kernelspec": {
   "display_name": "Python 2",
   "language": "python",
   "name": "python2"
  },
  "language_info": {
   "codemirror_mode": {
    "name": "ipython",
    "version": 2
   },
   "file_extension": ".py",
   "mimetype": "text/x-python",
   "name": "python",
   "nbconvert_exporter": "python",
   "pygments_lexer": "ipython2",
   "version": "2.7.13"
  }
 },
 "nbformat": 4,
 "nbformat_minor": 0
}
